import matplotlib.pyplot as plt
import time


def linearSearch(a,n,key):
    lcnt = 0
    for i in range(0,n):
        lcnt = lcnt + 1
        if(a[i] == key):
            print("key is found at the position=",i)
            return lcnt
    print("key is not found!")
    return lcnt

def binarySearch(a,n,key):
    low = 0
    high = n-1
    bcount = 0
    while low <= high:
        mid = (low+high) // 2
        bcount += 1
        if(a[mid] == key):
            print("key is found")
            return bcount
        elif(key < a[mid]):
            high = mid -1
        else:
            low = mid +1
    print("key not found")
    return bcount



def main():
    n = int(input("Enter n:"))
    a = []
    for i in range(n):
        a.append(i)
    #a = list(range(n))
    print(a)
    key = int(input("Enter key:"))
    start = time.time()
    Lcount  = linearSearch(a,n,key)
    end  = time.time()
    Lgaptime = end - start
    start = time.time()
    Bcount = binarySearch(a,n,key)
    end = time.time()
    Bgaptime = end - start

    print("Number of comparisons in Linear search = ",Lcount)
    print("Number of comparisons in Binary search = ",Bcount)

    plt.bar(['Linear search','Binary search'],[Lgaptime,Bgaptime],label = ['Linear search','Binary search'],color = ['red','green'])
    plt.xlabel("input size n:")
    plt.ylabel("Time sec")
    plt.legend()
    plt.show()

main()
